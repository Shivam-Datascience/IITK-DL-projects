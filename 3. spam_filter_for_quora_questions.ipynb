{
  "cells": [
    {
      "cell_type": "code",
      "execution_count": null,
      "metadata": {
        "id": "o4D46XVqaO_O"
      },
      "outputs": [],
      "source": [
        "from google.colab import drive\n",
        "drive.mount('/content/drive')"
      ]
    },
    {
      "cell_type": "code",
      "execution_count": null,
      "metadata": {
        "id": "nNPc9OBRa-fT"
      },
      "outputs": [],
      "source": [
        "import pandas as pd"
      ]
    },
    {
      "cell_type": "code",
      "execution_count": null,
      "metadata": {
        "id": "SNZ2eiXhdEEN"
      },
      "outputs": [],
      "source": [
        "df = pd.read_csv(\"train.csv\", sep=',', encoding='latin-1')"
      ]
    },
    {
      "cell_type": "code",
      "execution_count": null,
      "metadata": {
        "colab": {
          "base_uri": "https://localhost:8080/",
          "height": 363
        },
        "id": "RSPhy9ZU1sz_",
        "outputId": "0b343d1d-8f98-411b-9308-d406408d843b"
      },
      "outputs": [
        {
          "data": {
            "text/html": [
              "\n",
              "  <div id=\"df-a294539a-b4d5-44df-8143-d7d804224528\">\n",
              "    <div class=\"colab-df-container\">\n",
              "      <div>\n",
              "<style scoped>\n",
              "    .dataframe tbody tr th:only-of-type {\n",
              "        vertical-align: middle;\n",
              "    }\n",
              "\n",
              "    .dataframe tbody tr th {\n",
              "        vertical-align: top;\n",
              "    }\n",
              "\n",
              "    .dataframe thead th {\n",
              "        text-align: right;\n",
              "    }\n",
              "</style>\n",
              "<table border=\"1\" class=\"dataframe\">\n",
              "  <thead>\n",
              "    <tr style=\"text-align: right;\">\n",
              "      <th></th>\n",
              "      <th>qid</th>\n",
              "      <th>question_text</th>\n",
              "      <th>target</th>\n",
              "    </tr>\n",
              "  </thead>\n",
              "  <tbody>\n",
              "    <tr>\n",
              "      <th>180</th>\n",
              "      <td>00083b24297e4e627776</td>\n",
              "      <td>If an average NFL team obtained a kicker who c...</td>\n",
              "      <td>0.0</td>\n",
              "    </tr>\n",
              "    <tr>\n",
              "      <th>8413</th>\n",
              "      <td>01a356e27d7902fff18c</td>\n",
              "      <td>What are the main features of the world's grea...</td>\n",
              "      <td>0.0</td>\n",
              "    </tr>\n",
              "    <tr>\n",
              "      <th>49226</th>\n",
              "      <td>09a2aed3b8786f46848b</td>\n",
              "      <td>Why are French people do not answer tourists e...</td>\n",
              "      <td>1.0</td>\n",
              "    </tr>\n",
              "    <tr>\n",
              "      <th>37918</th>\n",
              "      <td>076940ee1daa90daf318</td>\n",
              "      <td>What do you think of Bitcoin Gold (BTG)? Will ...</td>\n",
              "      <td>0.0</td>\n",
              "    </tr>\n",
              "    <tr>\n",
              "      <th>54759</th>\n",
              "      <td>0abf21602d8fe3f46d41</td>\n",
              "      <td>What is the difference between assertive sente...</td>\n",
              "      <td>0.0</td>\n",
              "    </tr>\n",
              "    <tr>\n",
              "      <th>9526</th>\n",
              "      <td>01dc87c266d59a317cf6</td>\n",
              "      <td>What are the achievements of Arvind Kejriwal a...</td>\n",
              "      <td>0.0</td>\n",
              "    </tr>\n",
              "    <tr>\n",
              "      <th>16625</th>\n",
              "      <td>03435b6bf17501177299</td>\n",
              "      <td>How do I interpret salary grades that only lis...</td>\n",
              "      <td>0.0</td>\n",
              "    </tr>\n",
              "    <tr>\n",
              "      <th>20447</th>\n",
              "      <td>0400a83f10903a191600</td>\n",
              "      <td>What is the Champions League?</td>\n",
              "      <td>0.0</td>\n",
              "    </tr>\n",
              "    <tr>\n",
              "      <th>38680</th>\n",
              "      <td>0790d10c5e46461aaec9</td>\n",
              "      <td>My dad went to prison for something another pe...</td>\n",
              "      <td>0.0</td>\n",
              "    </tr>\n",
              "    <tr>\n",
              "      <th>25313</th>\n",
              "      <td>04f78f36eb2027600c40</td>\n",
              "      <td>What previous knowledge do I need to have for ...</td>\n",
              "      <td>0.0</td>\n",
              "    </tr>\n",
              "  </tbody>\n",
              "</table>\n",
              "</div>\n",
              "      <button class=\"colab-df-convert\" onclick=\"convertToInteractive('df-a294539a-b4d5-44df-8143-d7d804224528')\"\n",
              "              title=\"Convert this dataframe to an interactive table.\"\n",
              "              style=\"display:none;\">\n",
              "        \n",
              "  <svg xmlns=\"http://www.w3.org/2000/svg\" height=\"24px\"viewBox=\"0 0 24 24\"\n",
              "       width=\"24px\">\n",
              "    <path d=\"M0 0h24v24H0V0z\" fill=\"none\"/>\n",
              "    <path d=\"M18.56 5.44l.94 2.06.94-2.06 2.06-.94-2.06-.94-.94-2.06-.94 2.06-2.06.94zm-11 1L8.5 8.5l.94-2.06 2.06-.94-2.06-.94L8.5 2.5l-.94 2.06-2.06.94zm10 10l.94 2.06.94-2.06 2.06-.94-2.06-.94-.94-2.06-.94 2.06-2.06.94z\"/><path d=\"M17.41 7.96l-1.37-1.37c-.4-.4-.92-.59-1.43-.59-.52 0-1.04.2-1.43.59L10.3 9.45l-7.72 7.72c-.78.78-.78 2.05 0 2.83L4 21.41c.39.39.9.59 1.41.59.51 0 1.02-.2 1.41-.59l7.78-7.78 2.81-2.81c.8-.78.8-2.07 0-2.86zM5.41 20L4 18.59l7.72-7.72 1.47 1.35L5.41 20z\"/>\n",
              "  </svg>\n",
              "      </button>\n",
              "      \n",
              "  <style>\n",
              "    .colab-df-container {\n",
              "      display:flex;\n",
              "      flex-wrap:wrap;\n",
              "      gap: 12px;\n",
              "    }\n",
              "\n",
              "    .colab-df-convert {\n",
              "      background-color: #E8F0FE;\n",
              "      border: none;\n",
              "      border-radius: 50%;\n",
              "      cursor: pointer;\n",
              "      display: none;\n",
              "      fill: #1967D2;\n",
              "      height: 32px;\n",
              "      padding: 0 0 0 0;\n",
              "      width: 32px;\n",
              "    }\n",
              "\n",
              "    .colab-df-convert:hover {\n",
              "      background-color: #E2EBFA;\n",
              "      box-shadow: 0px 1px 2px rgba(60, 64, 67, 0.3), 0px 1px 3px 1px rgba(60, 64, 67, 0.15);\n",
              "      fill: #174EA6;\n",
              "    }\n",
              "\n",
              "    [theme=dark] .colab-df-convert {\n",
              "      background-color: #3B4455;\n",
              "      fill: #D2E3FC;\n",
              "    }\n",
              "\n",
              "    [theme=dark] .colab-df-convert:hover {\n",
              "      background-color: #434B5C;\n",
              "      box-shadow: 0px 1px 3px 1px rgba(0, 0, 0, 0.15);\n",
              "      filter: drop-shadow(0px 1px 2px rgba(0, 0, 0, 0.3));\n",
              "      fill: #FFFFFF;\n",
              "    }\n",
              "  </style>\n",
              "\n",
              "      <script>\n",
              "        const buttonEl =\n",
              "          document.querySelector('#df-a294539a-b4d5-44df-8143-d7d804224528 button.colab-df-convert');\n",
              "        buttonEl.style.display =\n",
              "          google.colab.kernel.accessAllowed ? 'block' : 'none';\n",
              "\n",
              "        async function convertToInteractive(key) {\n",
              "          const element = document.querySelector('#df-a294539a-b4d5-44df-8143-d7d804224528');\n",
              "          const dataTable =\n",
              "            await google.colab.kernel.invokeFunction('convertToInteractive',\n",
              "                                                     [key], {});\n",
              "          if (!dataTable) return;\n",
              "\n",
              "          const docLinkHtml = 'Like what you see? Visit the ' +\n",
              "            '<a target=\"_blank\" href=https://colab.research.google.com/notebooks/data_table.ipynb>data table notebook</a>'\n",
              "            + ' to learn more about interactive tables.';\n",
              "          element.innerHTML = '';\n",
              "          dataTable['output_type'] = 'display_data';\n",
              "          await google.colab.output.renderOutput(dataTable, element);\n",
              "          const docLink = document.createElement('div');\n",
              "          docLink.innerHTML = docLinkHtml;\n",
              "          element.appendChild(docLink);\n",
              "        }\n",
              "      </script>\n",
              "    </div>\n",
              "  </div>\n",
              "  "
            ],
            "text/plain": [
              "                        qid  \\\n",
              "180    00083b24297e4e627776   \n",
              "8413   01a356e27d7902fff18c   \n",
              "49226  09a2aed3b8786f46848b   \n",
              "37918  076940ee1daa90daf318   \n",
              "54759  0abf21602d8fe3f46d41   \n",
              "9526   01dc87c266d59a317cf6   \n",
              "16625  03435b6bf17501177299   \n",
              "20447  0400a83f10903a191600   \n",
              "38680  0790d10c5e46461aaec9   \n",
              "25313  04f78f36eb2027600c40   \n",
              "\n",
              "                                           question_text  target  \n",
              "180    If an average NFL team obtained a kicker who c...     0.0  \n",
              "8413   What are the main features of the world's grea...     0.0  \n",
              "49226  Why are French people do not answer tourists e...     1.0  \n",
              "37918  What do you think of Bitcoin Gold (BTG)? Will ...     0.0  \n",
              "54759  What is the difference between assertive sente...     0.0  \n",
              "9526   What are the achievements of Arvind Kejriwal a...     0.0  \n",
              "16625  How do I interpret salary grades that only lis...     0.0  \n",
              "20447                      What is the Champions League?     0.0  \n",
              "38680  My dad went to prison for something another pe...     0.0  \n",
              "25313  What previous knowledge do I need to have for ...     0.0  "
            ]
          },
          "execution_count": 50,
          "metadata": {},
          "output_type": "execute_result"
        }
      ],
      "source": [
        "df.sample(10)"
      ]
    },
    {
      "cell_type": "code",
      "execution_count": null,
      "metadata": {
        "colab": {
          "base_uri": "https://localhost:8080/"
        },
        "id": "ShbdVibWhj0w",
        "outputId": "ba0c7d04-398a-46d0-e628-47259d671e51"
      },
      "outputs": [
        {
          "name": "stdout",
          "output_type": "stream",
          "text": [
            "55264\n"
          ]
        }
      ],
      "source": [
        "for index, row in enumerate(df.isnull()[\"target\"]):\n",
        "  if row == True:\n",
        "    print(index)"
      ]
    },
    {
      "cell_type": "code",
      "execution_count": null,
      "metadata": {
        "id": "FBVvgNT3iAxt"
      },
      "outputs": [],
      "source": [
        "df.drop([55264],axis=0,inplace=True)"
      ]
    },
    {
      "cell_type": "code",
      "execution_count": null,
      "metadata": {
        "colab": {
          "base_uri": "https://localhost:8080/"
        },
        "id": "oB63ygs5iuii",
        "outputId": "a57b1b0e-7fa9-40f8-cf9d-b505a28e209e"
      },
      "outputs": [
        {
          "data": {
            "text/plain": [
              "qid              0\n",
              "question_text    0\n",
              "target           0\n",
              "dtype: int64"
            ]
          },
          "execution_count": 9,
          "metadata": {},
          "output_type": "execute_result"
        }
      ],
      "source": [
        "df.isnull().sum()"
      ]
    },
    {
      "cell_type": "code",
      "execution_count": 2,
      "metadata": {
        "id": "zDc65TZdi6iF"
      },
      "outputs": [],
      "source": [
        "import warnings\n",
        "warnings.filterwarnings('ignore')\n",
        "import pandas as pd\n",
        "import numpy as np\n",
        "import tensorflow as tf\n",
        "\n",
        "from tensorflow.keras.models import Sequential\n",
        "from tensorflow.keras.callbacks import ModelCheckpoint\n",
        "from tensorflow.keras.callbacks import EarlyStopping\n",
        "from tensorflow.keras import models\n",
        "from tensorflow.keras.models import load_model\n",
        "from tensorflow.keras.preprocessing.text import Tokenizer\n",
        "from tensorflow.keras.preprocessing import sequence\n",
        "from tensorflow.keras.layers import LSTM, Activation, Dense, Input, Embedding, Dropout\n",
        "from tensorflow.keras.models import Model\n",
        "\n",
        "from nltk import word_tokenize\n",
        "\n",
        "from sklearn.metrics import roc_auc_score, accuracy_score\n",
        "from sklearn.model_selection import train_test_split\n",
        "from sklearn.utils import class_weight"
      ]
    },
    {
      "cell_type": "code",
      "execution_count": null,
      "metadata": {
        "colab": {
          "base_uri": "https://localhost:8080/"
        },
        "id": "oBZ4Dduxi73F",
        "outputId": "b9fa17c9-ed8a-48b1-907e-d5a40aeca219"
      },
      "outputs": [
        {
          "name": "stdout",
          "output_type": "stream",
          "text": [
            "--2022-05-03 06:49:43--  http://nlp.stanford.edu/data/glove.42B.300d.zip\n",
            "Resolving nlp.stanford.edu (nlp.stanford.edu)... 171.64.67.140\n",
            "Connecting to nlp.stanford.edu (nlp.stanford.edu)|171.64.67.140|:80... connected.\n",
            "HTTP request sent, awaiting response... 302 Found\n",
            "Location: https://nlp.stanford.edu/data/glove.42B.300d.zip [following]\n",
            "--2022-05-03 06:49:43--  https://nlp.stanford.edu/data/glove.42B.300d.zip\n",
            "Connecting to nlp.stanford.edu (nlp.stanford.edu)|171.64.67.140|:443... connected.\n",
            "HTTP request sent, awaiting response... 301 Moved Permanently\n",
            "Location: http://downloads.cs.stanford.edu/nlp/data/glove.42B.300d.zip [following]\n",
            "--2022-05-03 06:49:43--  http://downloads.cs.stanford.edu/nlp/data/glove.42B.300d.zip\n",
            "Resolving downloads.cs.stanford.edu (downloads.cs.stanford.edu)... 171.64.64.22\n",
            "Connecting to downloads.cs.stanford.edu (downloads.cs.stanford.edu)|171.64.64.22|:80... connected.\n",
            "HTTP request sent, awaiting response... 200 OK\n",
            "Length: 1877800501 (1.7G) [application/zip]\n",
            "Saving to: ‘glove.42B.300d.zip’\n",
            "\n",
            "glove.42B.300d.zip  100%[===================>]   1.75G  5.11MB/s    in 5m 54s  \n",
            "\n",
            "2022-05-03 06:55:37 (5.07 MB/s) - ‘glove.42B.300d.zip’ saved [1877800501/1877800501]\n",
            "\n"
          ]
        }
      ],
      "source": [
        "!wget http://nlp.stanford.edu/data/glove.42B.300d.zip"
      ]
    },
    {
      "cell_type": "code",
      "execution_count": null,
      "metadata": {
        "colab": {
          "base_uri": "https://localhost:8080/"
        },
        "id": "cm3bB7_GjPmh",
        "outputId": "28bb68fb-20ed-46d8-e7dd-85ffe0036092"
      },
      "outputs": [
        {
          "name": "stdout",
          "output_type": "stream",
          "text": [
            "Archive:  /content/glove.42B.300d.zip\n",
            "  inflating: glove.42B.300d.txt      \n"
          ]
        }
      ],
      "source": [
        "!unzip /content/glove.42B.300d.zip "
      ]
    },
    {
      "cell_type": "code",
      "execution_count": null,
      "metadata": {
        "id": "89saBzG1jSIQ"
      },
      "outputs": [],
      "source": [
        "!rm /content/glove.42B.300d.zip"
      ]
    },
    {
      "cell_type": "code",
      "execution_count": null,
      "metadata": {
        "id": "N5jEr5BEjU1A"
      },
      "outputs": [],
      "source": [
        "embeding_index={}\n",
        "\n",
        "f=open('glove.42B.300d.txt',encoding='utf-8')\n",
        "\n",
        "for line in f:\n",
        "    values=line.split()\n",
        "    word=values[0]\n",
        "    coefs=np.asarray(values[1:],dtype='float32')\n",
        "    embeding_index[word]=coefs\n",
        "f.close()"
      ]
    },
    {
      "cell_type": "code",
      "execution_count": null,
      "metadata": {
        "colab": {
          "base_uri": "https://localhost:8080/"
        },
        "id": "9_LuaXIOjXoB",
        "outputId": "ed4798d4-c40c-4097-c971-0d2e85ec6f8b"
      },
      "outputs": [
        {
          "data": {
            "text/plain": [
              "300"
            ]
          },
          "execution_count": 15,
          "metadata": {},
          "output_type": "execute_result"
        }
      ],
      "source": [
        "len(embeding_index['provide'])"
      ]
    },
    {
      "cell_type": "code",
      "execution_count": null,
      "metadata": {
        "colab": {
          "base_uri": "https://localhost:8080/"
        },
        "id": "FKP5UwMuoC_e",
        "outputId": "1f6227db-632d-47c4-9cc1-d3cc73e279d5"
      },
      "outputs": [
        {
          "data": {
            "text/plain": [
              "1917494"
            ]
          },
          "execution_count": 16,
          "metadata": {},
          "output_type": "execute_result"
        }
      ],
      "source": [
        "len(embeding_index)"
      ]
    },
    {
      "cell_type": "code",
      "execution_count": null,
      "metadata": {
        "id": "vw78-qj8ot1R"
      },
      "outputs": [],
      "source": [
        "X=df['question_text']\n",
        "Y=df['target']"
      ]
    },
    {
      "cell_type": "code",
      "execution_count": null,
      "metadata": {
        "colab": {
          "base_uri": "https://localhost:8080/"
        },
        "id": "RFb26hJ_o2iB",
        "outputId": "a1f4f746-9548-460c-c502-ae7822f4970d"
      },
      "outputs": [
        {
          "data": {
            "text/plain": [
              "((44211,), (11053,), (44211,), (11053,))"
            ]
          },
          "execution_count": 18,
          "metadata": {},
          "output_type": "execute_result"
        }
      ],
      "source": [
        "x_train,x_test,y_train,y_test=train_test_split(X,Y,test_size=0.2)\n",
        "x_train.shape, x_test.shape, y_train.shape, y_test.shape"
      ]
    },
    {
      "cell_type": "code",
      "execution_count": null,
      "metadata": {
        "id": "-Wig6mlFo6kZ"
      },
      "outputs": [],
      "source": []
    },
    {
      "cell_type": "code",
      "execution_count": null,
      "metadata": {
        "colab": {
          "base_uri": "https://localhost:8080/"
        },
        "id": "RAzg_oYueAXZ",
        "outputId": "7e62bb6e-1d5b-40e0-fb2f-47b21675e332"
      },
      "outputs": [
        {
          "name": "stdout",
          "output_type": "stream",
          "text": [
            "[0.53245737 8.20241187]\n"
          ]
        }
      ],
      "source": [
        "class_weight=class_weight.compute_class_weight('balanced' ,classes = np.unique(y_train), y = y_train)\n",
        "print(class_weight)"
      ]
    },
    {
      "cell_type": "code",
      "execution_count": null,
      "metadata": {
        "colab": {
          "base_uri": "https://localhost:8080/"
        },
        "id": "ifFH0CoNgull",
        "outputId": "3de62f44-aad5-4424-abd3-b65f0a5fcfe8"
      },
      "outputs": [
        {
          "data": {
            "text/plain": [
              "{0: 0.5324573658348588, 1: 8.202411873840445}"
            ]
          },
          "execution_count": 20,
          "metadata": {},
          "output_type": "execute_result"
        }
      ],
      "source": [
        "class_weight_dict = dict(enumerate(class_weight))\n",
        "class_weight_dict"
      ]
    },
    {
      "cell_type": "code",
      "execution_count": null,
      "metadata": {
        "colab": {
          "base_uri": "https://localhost:8080/"
        },
        "id": "cI14HE0Kg4bF",
        "outputId": "9b1cc0a3-a347-43a3-86ca-63a89d42f552"
      },
      "outputs": [
        {
          "data": {
            "text/plain": [
              "39938    Do other countries have seasonal \"Halloween\" s...\n",
              "21185    Why native Hindi speakers wants south Indians ...\n",
              "17019    I think that I know an idea to help cure cance...\n",
              "484      Is there a way to report a business review of ...\n",
              "12562    Where can I find wholesale suppliers of Korean...\n",
              "                               ...                        \n",
              "14486    Does Tybalt ever confront or meet Romeo direct...\n",
              "47050    What are the examples for law, ethics and posi...\n",
              "44522    How is a Radeon Pro 555 that has 2GB of GDDR5 ...\n",
              "21115    Which is the best college for interior design ...\n",
              "38238    How do I become a data scientist with no softw...\n",
              "Name: question_text, Length: 44211, dtype: object"
            ]
          },
          "execution_count": 21,
          "metadata": {},
          "output_type": "execute_result"
        }
      ],
      "source": [
        "x_train"
      ]
    },
    {
      "cell_type": "code",
      "execution_count": null,
      "metadata": {
        "id": "LHtlVBkKRRv9"
      },
      "outputs": [],
      "source": [
        "from nltk import word_tokenize"
      ]
    },
    {
      "cell_type": "code",
      "execution_count": null,
      "metadata": {
        "colab": {
          "base_uri": "https://localhost:8080/"
        },
        "id": "zIPt2wrwRhYX",
        "outputId": "7b7127cf-9f7b-426c-8362-9c23aa582e80"
      },
      "outputs": [
        {
          "name": "stdout",
          "output_type": "stream",
          "text": [
            "[nltk_data] Downloading package punkt to /root/nltk_data...\n",
            "[nltk_data]   Unzipping tokenizers/punkt.zip.\n",
            "[nltk_data] Downloading package averaged_perceptron_tagger to\n",
            "[nltk_data]     /root/nltk_data...\n",
            "[nltk_data]   Unzipping taggers/averaged_perceptron_tagger.zip.\n"
          ]
        },
        {
          "data": {
            "text/plain": [
              "True"
            ]
          },
          "execution_count": 23,
          "metadata": {},
          "output_type": "execute_result"
        }
      ],
      "source": [
        "import nltk\n",
        "nltk.download('punkt')\n",
        "nltk.download('averaged_perceptron_tagger')"
      ]
    },
    {
      "cell_type": "code",
      "execution_count": null,
      "metadata": {
        "colab": {
          "base_uri": "https://localhost:8080/"
        },
        "id": "yEUkbXrHRs1m",
        "outputId": "da889cc9-2720-480f-e747-c0879ce301ae"
      },
      "outputs": [
        {
          "name": "stdout",
          "output_type": "stream",
          "text": [
            "97\n"
          ]
        }
      ],
      "source": [
        "sent_lens=[len(word_tokenize(x)) for x in x_train]\n",
        "print(max(sent_lens))"
      ]
    },
    {
      "cell_type": "code",
      "execution_count": null,
      "metadata": {
        "colab": {
          "base_uri": "https://localhost:8080/"
        },
        "id": "ogwok2DmVRDg",
        "outputId": "327eb663-d5a2-45a7-9a66-2c9edba7509d"
      },
      "outputs": [
        {
          "data": {
            "text/plain": [
              "44.0"
            ]
          },
          "execution_count": 25,
          "metadata": {},
          "output_type": "execute_result"
        }
      ],
      "source": [
        "np.percentile(sent_lens,99)"
      ]
    },
    {
      "cell_type": "code",
      "execution_count": null,
      "metadata": {
        "id": "Hj0652xHfs05"
      },
      "outputs": [],
      "source": [
        "max_len=44\n",
        "\n",
        "tk=Tokenizer(char_level=False,split=' ')\n",
        "\n",
        "tk.fit_on_texts(x_train)\n",
        "\n",
        "seq_train=tk.texts_to_sequences(x_train)\n",
        "seq_test=tk.texts_to_sequences(x_test)\n",
        "\n",
        "vocab_size=len(tk.word_index)\n",
        "\n",
        "seq_train_matrix=sequence.pad_sequences(seq_train,maxlen=max_len)\n",
        "seq_test_matrix=sequence.pad_sequences(seq_test,maxlen=max_len)"
      ]
    },
    {
      "cell_type": "code",
      "execution_count": null,
      "metadata": {
        "id": "PwqGnN2dtipy"
      },
      "outputs": [],
      "source": [
        "tk.word_index"
      ]
    },
    {
      "cell_type": "code",
      "execution_count": null,
      "metadata": {
        "colab": {
          "base_uri": "https://localhost:8080/"
        },
        "id": "OgeRjCP7tvgz",
        "outputId": "5d73f240-e78f-49bf-e0f6-7d92e648491c"
      },
      "outputs": [
        {
          "data": {
            "text/plain": [
              "35612"
            ]
          },
          "execution_count": 28,
          "metadata": {},
          "output_type": "execute_result"
        }
      ],
      "source": [
        "vocab_size"
      ]
    },
    {
      "cell_type": "code",
      "execution_count": null,
      "metadata": {
        "colab": {
          "base_uri": "https://localhost:8080/"
        },
        "id": "ZihRPSA3sDmx",
        "outputId": "16d193fc-df8e-43d7-f2a3-8fe4a88e7723"
      },
      "outputs": [
        {
          "data": {
            "text/plain": [
              "(44211, 44)"
            ]
          },
          "execution_count": 29,
          "metadata": {},
          "output_type": "execute_result"
        }
      ],
      "source": [
        "seq_train_matrix.shape"
      ]
    },
    {
      "cell_type": "code",
      "execution_count": null,
      "metadata": {
        "id": "vcnE75sZrKYO"
      },
      "outputs": [],
      "source": [
        "seq_train"
      ]
    },
    {
      "cell_type": "code",
      "execution_count": null,
      "metadata": {
        "colab": {
          "base_uri": "https://localhost:8080/"
        },
        "id": "woVUMtBgoxwN",
        "outputId": "87d2fdd2-49f7-44b0-b154-9fcd89bebde8"
      },
      "outputs": [
        {
          "data": {
            "text/plain": [
              "(44211,)"
            ]
          },
          "execution_count": 31,
          "metadata": {},
          "output_type": "execute_result"
        }
      ],
      "source": [
        "x_train.shape"
      ]
    },
    {
      "cell_type": "code",
      "execution_count": null,
      "metadata": {
        "colab": {
          "base_uri": "https://localhost:8080/"
        },
        "id": "HYjVbykyly7S",
        "outputId": "921f8ca5-e611-44fe-e310-892a119a7202"
      },
      "outputs": [
        {
          "data": {
            "text/plain": [
              "(44211, 11053)"
            ]
          },
          "execution_count": 32,
          "metadata": {},
          "output_type": "execute_result"
        }
      ],
      "source": [
        "len(seq_train),len(seq_test)"
      ]
    },
    {
      "cell_type": "code",
      "execution_count": null,
      "metadata": {
        "colab": {
          "base_uri": "https://localhost:8080/"
        },
        "id": "wl-AcK_zyjj2",
        "outputId": "ba07891d-22fe-40f0-a1b9-bac845b8a860"
      },
      "outputs": [
        {
          "data": {
            "text/plain": [
              "((44211, 44), (11053, 44))"
            ]
          },
          "execution_count": 33,
          "metadata": {},
          "output_type": "execute_result"
        }
      ],
      "source": [
        "seq_train_matrix.shape, seq_test_matrix.shape"
      ]
    },
    {
      "cell_type": "code",
      "execution_count": null,
      "metadata": {
        "id": "uk1aTkqAi21Z"
      },
      "outputs": [],
      "source": [
        "embedding_matrix=np.zeros((vocab_size+1,300))\n",
        "\n",
        "for word,i in tk.word_index.items():\n",
        "    embed_vector=embeding_index.get(word)\n",
        "    if embed_vector is not None:\n",
        "        embedding_matrix[i]=embed_vector"
      ]
    },
    {
      "cell_type": "code",
      "execution_count": null,
      "metadata": {
        "colab": {
          "base_uri": "https://localhost:8080/"
        },
        "id": "wNs_Zt2bknJM",
        "outputId": "a5dc1099-a6fc-4400-da22-9a8531695d5d"
      },
      "outputs": [
        {
          "data": {
            "text/plain": [
              "35613"
            ]
          },
          "execution_count": 35,
          "metadata": {},
          "output_type": "execute_result"
        }
      ],
      "source": [
        " len(embedding_matrix)"
      ]
    },
    {
      "cell_type": "code",
      "execution_count": null,
      "metadata": {
        "colab": {
          "base_uri": "https://localhost:8080/"
        },
        "id": "7OYLPNUhsSgV",
        "outputId": "1784a52d-b913-442f-de00-0e387fb949ee"
      },
      "outputs": [
        {
          "data": {
            "text/plain": [
              "(35613, 300)"
            ]
          },
          "execution_count": 36,
          "metadata": {},
          "output_type": "execute_result"
        }
      ],
      "source": [
        "embedding_matrix.shape"
      ]
    },
    {
      "cell_type": "code",
      "execution_count": null,
      "metadata": {
        "colab": {
          "base_uri": "https://localhost:8080/"
        },
        "id": "ReRkrpICwwv9",
        "outputId": "1b3720a5-0100-4d55-b7c7-469ee4837b1b"
      },
      "outputs": [
        {
          "data": {
            "text/plain": [
              "array([[ 0.        ,  0.        ,  0.        , ...,  0.        ,\n",
              "         0.        ,  0.        ],\n",
              "       [-0.20838   , -0.14932001, -0.017528  , ..., -0.54066002,\n",
              "         0.21199   , -0.0094357 ],\n",
              "       [ 0.13877   , -0.0021201 , -0.091039  , ...,  0.024614  ,\n",
              "         0.46514001,  0.11363   ],\n",
              "       ...,\n",
              "       [ 0.        ,  0.        ,  0.        , ...,  0.        ,\n",
              "         0.        ,  0.        ],\n",
              "       [-0.38066   , -0.92199999, -0.16158   , ...,  0.079318  ,\n",
              "        -0.014611  , -0.2762    ],\n",
              "       [ 0.        ,  0.        ,  0.        , ...,  0.        ,\n",
              "         0.        ,  0.        ]])"
            ]
          },
          "execution_count": 37,
          "metadata": {},
          "output_type": "execute_result"
        }
      ],
      "source": [
        "embedding_matrix"
      ]
    },
    {
      "cell_type": "code",
      "execution_count": null,
      "metadata": {
        "id": "T8os22RFswtD"
      },
      "outputs": [],
      "source": [
        "inputs = Input(name='text_input',shape=[max_len])\n",
        "embed=Embedding(vocab_size+1,300,input_length=max_len,mask_zero=True,\n",
        "                weights=[embedding_matrix],trainable=False)(inputs)\n",
        "lstm_layer1 = LSTM(512)(embed)\n",
        "drop1 = Dropout(0.2)(lstm_layer1)\n",
        "lstm_layer2 = Dense(256,activation='relu')(drop1)\n",
        "drop2 = Dropout(0.2)(lstm_layer2)\n",
        "lstm_layer3 = Dense(128,activation='relu')(drop2)\n",
        "drop3 = Dropout(0.2)(lstm_layer3)\n",
        "dense1 = Dense(25,activation='relu')(lstm_layer3)\n",
        "drop4 = Dropout(0.2)(dense1)\n",
        "final_layer = Dense(1,activation='sigmoid')(drop4)\n",
        "\n",
        "model = Model(inputs=inputs,outputs=final_layer)"
      ]
    },
    {
      "cell_type": "code",
      "execution_count": null,
      "metadata": {
        "colab": {
          "base_uri": "https://localhost:8080/"
        },
        "id": "CdVALMrdw4P5",
        "outputId": "7cd2acb5-87c1-4032-e286-b4a3a282734b"
      },
      "outputs": [
        {
          "name": "stdout",
          "output_type": "stream",
          "text": [
            "Model: \"model\"\n",
            "_________________________________________________________________\n",
            " Layer (type)                Output Shape              Param #   \n",
            "=================================================================\n",
            " text_input (InputLayer)     [(None, 44)]              0         \n",
            "                                                                 \n",
            " embedding (Embedding)       (None, 44, 300)           10683900  \n",
            "                                                                 \n",
            " lstm (LSTM)                 (None, 512)               1665024   \n",
            "                                                                 \n",
            " dropout (Dropout)           (None, 512)               0         \n",
            "                                                                 \n",
            " dense (Dense)               (None, 256)               131328    \n",
            "                                                                 \n",
            " dropout_1 (Dropout)         (None, 256)               0         \n",
            "                                                                 \n",
            " dense_1 (Dense)             (None, 128)               32896     \n",
            "                                                                 \n",
            " dense_2 (Dense)             (None, 25)                3225      \n",
            "                                                                 \n",
            " dropout_3 (Dropout)         (None, 25)                0         \n",
            "                                                                 \n",
            " dense_3 (Dense)             (None, 1)                 26        \n",
            "                                                                 \n",
            "=================================================================\n",
            "Total params: 12,516,399\n",
            "Trainable params: 1,832,499\n",
            "Non-trainable params: 10,683,900\n",
            "_________________________________________________________________\n"
          ]
        }
      ],
      "source": [
        "model.summary()"
      ]
    },
    {
      "cell_type": "code",
      "execution_count": null,
      "metadata": {
        "id": "fYbr9WMy0WGj"
      },
      "outputs": [],
      "source": [
        "filepath='/content/weights-{epoch:02d}-{val_loss:.4f}.h5'\n",
        "checkpoint = ModelCheckpoint(filepath, monitor='val_loss', verbose=1, \n",
        "                             save_best_only=True)"
      ]
    },
    {
      "cell_type": "code",
      "execution_count": null,
      "metadata": {
        "id": "5qVS3fMI0cAn"
      },
      "outputs": [],
      "source": [
        "earlystop = EarlyStopping(monitor='val_loss', patience=3,\n",
        "                          verbose=1)"
      ]
    },
    {
      "cell_type": "code",
      "execution_count": null,
      "metadata": {
        "id": "MeFk1NL7xKEj"
      },
      "outputs": [],
      "source": [
        "model.compile(optimizer='adam',loss='binary_crossentropy',metrics=['accuracy'])"
      ]
    },
    {
      "cell_type": "code",
      "execution_count": null,
      "metadata": {
        "colab": {
          "base_uri": "https://localhost:8080/"
        },
        "id": "oa3SBtPBQrnh",
        "outputId": "02becfcc-7c42-4808-9111-9fb4a14c8ee4"
      },
      "outputs": [
        {
          "name": "stdout",
          "output_type": "stream",
          "text": [
            "Epoch 1/15\n",
            "\n",
            "Epoch 1: val_loss improved from inf to 0.34232, saving model to /content/weights-01-0.3423.h5\n",
            "45/45 - 390s - loss: 0.4208 - accuracy: 0.7958 - val_loss: 0.3423 - val_accuracy: 0.8488 - 390s/epoch - 9s/step\n",
            "Epoch 2/15\n",
            "\n",
            "Epoch 2: val_loss improved from 0.34232 to 0.17963, saving model to /content/weights-02-0.1796.h5\n",
            "45/45 - 385s - loss: 0.3284 - accuracy: 0.8524 - val_loss: 0.1796 - val_accuracy: 0.9277 - 385s/epoch - 9s/step\n",
            "Epoch 3/15\n",
            "\n",
            "Epoch 3: val_loss did not improve from 0.17963\n",
            "45/45 - 380s - loss: 0.3120 - accuracy: 0.8687 - val_loss: 0.3450 - val_accuracy: 0.8470 - 380s/epoch - 8s/step\n",
            "Epoch 4/15\n",
            "\n",
            "Epoch 4: val_loss did not improve from 0.17963\n",
            "45/45 - 378s - loss: 0.2804 - accuracy: 0.8712 - val_loss: 0.2854 - val_accuracy: 0.8675 - 378s/epoch - 8s/step\n",
            "Epoch 5/15\n",
            "\n",
            "Epoch 5: val_loss did not improve from 0.17963\n",
            "45/45 - 387s - loss: 0.2613 - accuracy: 0.8762 - val_loss: 0.2202 - val_accuracy: 0.9040 - 387s/epoch - 9s/step\n",
            "Epoch 5: early stopping\n"
          ]
        },
        {
          "data": {
            "text/plain": [
              "<keras.callbacks.History at 0x7f7e17033ed0>"
            ]
          },
          "execution_count": 43,
          "metadata": {},
          "output_type": "execute_result"
        }
      ],
      "source": [
        "model.fit(seq_train_matrix,y_train,\n",
        "              epochs=15,\n",
        "              class_weight={0: 0.5331085383324966, 1: 8.050922287457816},\n",
        "              batch_size=1000,\n",
        "              validation_data=(seq_test_matrix,y_test),\n",
        "              callbacks = [earlystop, checkpoint],\n",
        "              verbose=2)"
      ]
    },
    {
      "cell_type": "code",
      "execution_count": null,
      "metadata": {
        "id": "mN9KQx2wxwXJ"
      },
      "outputs": [],
      "source": [
        "best_model = load_model('/content/weights-02-0.1796.h5')"
      ]
    },
    {
      "cell_type": "code",
      "execution_count": null,
      "metadata": {
        "colab": {
          "base_uri": "https://localhost:8080/"
        },
        "id": "1yHc-LT21REL",
        "outputId": "81e25cb8-0e34-4ae2-a6d8-d5b1ec5893a6"
      },
      "outputs": [
        {
          "name": "stdout",
          "output_type": "stream",
          "text": [
            "Model: \"model\"\n",
            "_________________________________________________________________\n",
            " Layer (type)                Output Shape              Param #   \n",
            "=================================================================\n",
            " text_input (InputLayer)     [(None, 44)]              0         \n",
            "                                                                 \n",
            " embedding (Embedding)       (None, 44, 300)           10683900  \n",
            "                                                                 \n",
            " lstm (LSTM)                 (None, 512)               1665024   \n",
            "                                                                 \n",
            " dropout (Dropout)           (None, 512)               0         \n",
            "                                                                 \n",
            " dense (Dense)               (None, 256)               131328    \n",
            "                                                                 \n",
            " dropout_1 (Dropout)         (None, 256)               0         \n",
            "                                                                 \n",
            " dense_1 (Dense)             (None, 128)               32896     \n",
            "                                                                 \n",
            " dense_2 (Dense)             (None, 25)                3225      \n",
            "                                                                 \n",
            " dropout_3 (Dropout)         (None, 25)                0         \n",
            "                                                                 \n",
            " dense_3 (Dense)             (None, 1)                 26        \n",
            "                                                                 \n",
            "=================================================================\n",
            "Total params: 12,516,399\n",
            "Trainable params: 1,832,499\n",
            "Non-trainable params: 10,683,900\n",
            "_________________________________________________________________\n"
          ]
        }
      ],
      "source": [
        "best_model.summary()"
      ]
    },
    {
      "cell_type": "code",
      "execution_count": null,
      "metadata": {
        "colab": {
          "base_uri": "https://localhost:8080/"
        },
        "id": "l8M0H2OZ9JmM",
        "outputId": "9579312b-1d9d-47af-cae8-8c582fabec12"
      },
      "outputs": [
        {
          "data": {
            "text/plain": [
              "0.9284649661446333"
            ]
          },
          "execution_count": 47,
          "metadata": {},
          "output_type": "execute_result"
        }
      ],
      "source": [
        "p = best_model.predict(seq_test_matrix)\n",
        "roc_auc_score(y_test,p)"
      ]
    },
    {
      "cell_type": "code",
      "execution_count": null,
      "metadata": {
        "id": "fB_Kkf9ECioI"
      },
      "outputs": [],
      "source": [
        "best_model.save('./spam_filter_model_quora_questions.h5')"
      ]
    }
  ],
  "metadata": {
    "accelerator": "TPU",
    "colab": {
      "name": "spam_filter.ipynb",
      "provenance": []
    },
    "kernelspec": {
      "display_name": "Python 3",
      "name": "python3"
    },
    "language_info": {
      "codemirror_mode": {
        "name": "ipython",
        "version": 3
      },
      "file_extension": ".py",
      "mimetype": "text/x-python",
      "name": "python",
      "nbconvert_exporter": "python",
      "pygments_lexer": "ipython3",
      "version": "3.8.1"
    },
    "orig_nbformat": 4
  },
  "nbformat": 4,
  "nbformat_minor": 0
}
